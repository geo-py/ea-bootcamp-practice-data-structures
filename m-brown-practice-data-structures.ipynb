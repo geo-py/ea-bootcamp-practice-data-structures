{
 "cells": [
  {
   "cell_type": "markdown",
   "metadata": {},
   "source": [
    "### Earth Analytics Bootcamp - Practice Activity on Data Structures\n",
    "\n",
    "**Author:** Mark Brown\n",
    "\n",
    "**Note:** If anyone is reading this please note that I am not a student on this course. I'm a geospatial professional from the UK working through this course for professional development."
   ]
  },
  {
   "cell_type": "markdown",
   "metadata": {},
   "source": [
    "**Question 2: Import Python Packages**\n",
    "\n",
    "You will be creating lists, numpy arrays, and pandas dataframes. You will also be creating plots and downloading data from Figshare.com\n",
    "\n",
    "Import the necessary Python packages to accomplish these tasks. Review the lessons as needed to figure out which packages you need to import"
   ]
  },
  {
   "cell_type": "code",
   "execution_count": 1,
   "metadata": {},
   "outputs": [
    {
     "name": "stdout",
     "output_type": "stream",
     "text": [
      "Packages sucessfully imported\n"
     ]
    }
   ],
   "source": [
    "# import the Python packages necessary to carry out this task\n",
    "\n",
    "import os\n",
    "import numpy as np\n",
    "import pandas as pd\n",
    "import urllib.request\n",
    "import matplotlib.pyplot as plt\n",
    "\n",
    "print(\"Packages sucessfully imported\")"
   ]
  },
  {
   "cell_type": "markdown",
   "metadata": {},
   "source": [
    "**Question 3: Create List of Data Values**\n",
    "\n",
    "Create and print a Python list of the average monthly temperature (Celsius) in Boulder, CO."
   ]
  },
  {
   "cell_type": "code",
   "execution_count": 2,
   "metadata": {},
   "outputs": [
    {
     "name": "stdout",
     "output_type": "stream",
     "text": [
      "[0.0, 2.0, 5.0, 9.56, 14.39, 21.72, 16.72, 11.61, 4.89, 0.99]\n"
     ]
    }
   ],
   "source": [
    "# create a python list of the average monthly temperature (Celsius) in Boulder, CO.\n",
    "\n",
    "avg_monthly_temp = [0.0, 2.00, 5.0, 9.56, 14.39, 21.72, 16.72, 11.61, 4.89, 0.99]\n",
    "\n",
    "# print the list 'avg_monthly-temp'. Note: the values for June and July are missing from this dataset\n",
    "\n",
    "print(avg_monthly_temp)"
   ]
  },
  {
   "cell_type": "markdown",
   "metadata": {},
   "source": [
    "**Question 4: Insert Values Into a Python List**\n",
    "\n",
    "* June : 19.56\n",
    "* July : 22.78\n",
    "\n",
    "Insert missing values for June and July into your Python list with the following syntax:\n",
    "\n",
    "listname.insert(index, value)\n",
    "\n",
    "This means that you need to determine the index location at which you want to insert the value. For example, if you want to add a new value at the second place in a list, then you would use an index of [1].\n",
    "\n",
    "It can also be helpful to identify the index of the existing value in front of which you want to add a new value.\n",
    "\n",
    "Remember that Python indexing begins at [0] and that when you add a new item to the list, the index of the original items will update as well.\n",
    "\n",
    "Print your Python list after each addition."
   ]
  },
  {
   "cell_type": "code",
   "execution_count": 3,
   "metadata": {},
   "outputs": [
    {
     "name": "stdout",
     "output_type": "stream",
     "text": [
      "[0.0, 2.0, 5.0, 9.56, 14.39, 19.56, 21.72, 16.72, 11.61, 4.89, 0.99]\n"
     ]
    }
   ],
   "source": [
    "# insert the missing value for June into 'avg_monthly_temp'\n",
    "\n",
    "avg_monthly_temp.insert(5, 19.56)\n",
    "\n",
    "# print 'avg_monthly_temp' to show new value has been inserted\n",
    "\n",
    "print(avg_monthly_temp)"
   ]
  },
  {
   "cell_type": "code",
   "execution_count": 4,
   "metadata": {},
   "outputs": [
    {
     "name": "stdout",
     "output_type": "stream",
     "text": [
      "[0.0, 2.0, 5.0, 9.56, 14.39, 19.56, 22.78, 21.72, 16.72, 11.61, 4.89, 0.99]\n"
     ]
    }
   ],
   "source": [
    "# insert the missing value for July into 'avg_monthly_temp'\n",
    "\n",
    "avg_monthly_temp.insert(6, 22.78)\n",
    "\n",
    "# print 'avg_monthly_temp' to show new value has been inserted\n",
    "\n",
    "print(avg_monthly_temp)"
   ]
  },
  {
   "cell_type": "markdown",
   "metadata": {},
   "source": [
    "**Question 5: Manually Create Numpy Arrays**\n",
    "\n",
    "Using the average monthly temperature values, manually create and print a one-dimensional numpy array using the following syntax:\n",
    "\n",
    "arrayname = np.array([value, value, value, etc])"
   ]
  },
  {
   "cell_type": "code",
   "execution_count": 5,
   "metadata": {},
   "outputs": [
    {
     "name": "stdout",
     "output_type": "stream",
     "text": [
      "[ 0.    2.    5.    9.56 14.39 19.56 22.78 21.72 16.72 11.61  4.89  0.99]\n"
     ]
    }
   ],
   "source": [
    "# create and print array using average monthly temperature values\n",
    "\n",
    "avg_monthly_temp_array = np.array([0.0, 2.0, 5.0, 9.56, 14.39, 19.56, 22.78, 21.72, 16.72, 11.61, 4.89, 0.99])\n",
    "\n",
    "# print the new numpy array\n",
    "\n",
    "print(avg_monthly_temp_array)"
   ]
  },
  {
   "cell_type": "code",
   "execution_count": 8,
   "metadata": {},
   "outputs": [
    {
     "name": "stdout",
     "output_type": "stream",
     "text": [
      "[ 0.    2.    5.    9.56 14.39 19.56 22.78 21.72 16.72 11.61  4.89  0.99]\n"
     ]
    }
   ],
   "source": [
    "# create and print array using the 'avg_monthly_temp' list created previously in question 4\n",
    "\n",
    "avg_monthly_temp_array_from_list = np.array(avg_monthly_temp)\n",
    "\n",
    "# print the new numpy array\n",
    "\n",
    "print(avg_monthly_temp_array_from_list)"
   ]
  },
  {
   "cell_type": "markdown",
   "metadata": {},
   "source": [
    "**Quesion 6: Download Text File and Import Into Numpy Arrays**\n",
    "\n",
    "Use .urllib.request to download the following file of average monthly temperature (Celsius) for Boulder, Colorado, to your data directory:\n",
    "\n",
    "avg-monthly-temp.txt from https://ndownloader.figshare.com/files/12732467\n",
    "\n",
    "Recall that you need to set your working directory (e.g. /home/jpalomino/earth-analytics-bootcamp/) before running the commands to download data.\n",
    "\n",
    "Use the appropriate function to import avg-monthly-temp.txt into a numpy array."
   ]
  },
  {
   "cell_type": "code",
   "execution_count": 9,
   "metadata": {},
   "outputs": [
    {
     "data": {
      "text/plain": [
       "'C:\\\\Users\\\\markb\\\\earth-analytics-bootcamp'"
      ]
     },
     "execution_count": 9,
     "metadata": {},
     "output_type": "execute_result"
    }
   ],
   "source": [
    "# change current working directory to earth-analytics-bootcamp directory\n",
    "\n",
    "os.chdir(\"/Users/markb/earth-analytics-bootcamp/\")\n",
    "         \n",
    "# print the current working directory\n",
    "\n",
    "os.getcwd()"
   ]
  },
  {
   "cell_type": "code",
   "execution_count": 10,
   "metadata": {},
   "outputs": [
    {
     "name": "stdout",
     "output_type": "stream",
     "text": [
      "datasets downloaded successfully\n",
      "[ 0.    2.    5.    9.56 14.39 19.56 22.78 21.72 16.72 11.61  4.89  0.99]\n"
     ]
    }
   ],
   "source": [
    "#  download .txt containing monthly average temperature for Boulder, CO\n",
    "urllib.request.urlretrieve(url = \"https://ndownloader.figshare.com/files/12732467\", \n",
    "                           filename = \"data/avg-monthly-temp.txt\")\n",
    "\n",
    "#  print message that the data was downloaded successful\n",
    "print(\"datasets downloaded successfully\")\n",
    "\n",
    "# import temperature data into a nump array\n",
    "avg_monthly_temp = np.loadtxt(fname = \"/Users/markb/earth-analytics-bootcamp/data/avg-monthly-temp.txt\")\n",
    "\n",
    "print(avg_monthly_temp)"
   ]
  },
  {
   "cell_type": "markdown",
   "metadata": {},
   "source": [
    "#### Quesion 7: Select and Summarize Data From Numpy Arrays\n",
    "\n",
    "Using selections, create two new numpy arrays containing the data values for:\n",
    "\n",
    "    Mar, Apr, May\n",
    "    Sept, Oct, Nov\n",
    "\n",
    "Run the appropriate function to calculate and print the mean of each new numpy array."
   ]
  },
  {
   "cell_type": "code",
   "execution_count": 11,
   "metadata": {},
   "outputs": [
    {
     "name": "stdout",
     "output_type": "stream",
     "text": [
      "[ 5.    9.56 14.39]\n",
      "[16.72 11.61  4.89]\n",
      "The mean monthly temperature Boulder, CO in Spring was 9.65 °C\n",
      "The mean monthly temperature in Boulder, CO in Autumn was 11.07 °C\n"
     ]
    }
   ],
   "source": [
    "# create new numpy arrays for Spring and Autumn.\n",
    "\n",
    "springtemp = avg_monthly_temp[2:5]\n",
    "\n",
    "# print data values for Spring temperatures\n",
    "\n",
    "print(springtemp)\n",
    "\n",
    "autumntemp = avg_monthly_temp[8:11]\n",
    "\n",
    "# print data for Autumn temperatures\n",
    "\n",
    "print(autumntemp)\n",
    "\n",
    "# print sentence summarising the mean montly temperature for each of the seasons\n",
    "\n",
    "print(\"The mean monthly temperature Boulder, CO in Spring was\", round(np.mean(springtemp),2),\"°C\")\n",
    "print(\"The mean monthly temperature in Boulder, CO in Autumn was\", round(np.mean(autumntemp),2),\"°C\")"
   ]
  },
  {
   "cell_type": "markdown",
   "metadata": {},
   "source": [
    "##### Question 8: Manually Create Pandas Dataframes\n",
    "\n",
    "Manually create and print a pandas dataframe of average monthly temperature (Celsius) for Boulder, Colorado, with the following syntax:\n",
    "\n",
    "dataframe_name = pd.DataFrame( columns=[\"column_name_textstring\", \"column_name_numeric\"], data=[ [\"Text\", value], [\"Text\", value], [\"Text\", value], [\"Text\", value] ] )"
   ]
  },
  {
   "cell_type": "code",
   "execution_count": 12,
   "metadata": {},
   "outputs": [
    {
     "data": {
      "text/html": [
       "<div>\n",
       "<style scoped>\n",
       "    .dataframe tbody tr th:only-of-type {\n",
       "        vertical-align: middle;\n",
       "    }\n",
       "\n",
       "    .dataframe tbody tr th {\n",
       "        vertical-align: top;\n",
       "    }\n",
       "\n",
       "    .dataframe thead th {\n",
       "        text-align: right;\n",
       "    }\n",
       "</style>\n",
       "<table border=\"1\" class=\"dataframe\">\n",
       "  <thead>\n",
       "    <tr style=\"text-align: right;\">\n",
       "      <th></th>\n",
       "      <th>Month</th>\n",
       "      <th>Temperature °C</th>\n",
       "    </tr>\n",
       "  </thead>\n",
       "  <tbody>\n",
       "    <tr>\n",
       "      <th>0</th>\n",
       "      <td>January</td>\n",
       "      <td>0.00</td>\n",
       "    </tr>\n",
       "    <tr>\n",
       "      <th>1</th>\n",
       "      <td>February</td>\n",
       "      <td>2.00</td>\n",
       "    </tr>\n",
       "    <tr>\n",
       "      <th>2</th>\n",
       "      <td>March</td>\n",
       "      <td>5.00</td>\n",
       "    </tr>\n",
       "    <tr>\n",
       "      <th>3</th>\n",
       "      <td>April</td>\n",
       "      <td>9.56</td>\n",
       "    </tr>\n",
       "    <tr>\n",
       "      <th>4</th>\n",
       "      <td>May</td>\n",
       "      <td>14.39</td>\n",
       "    </tr>\n",
       "    <tr>\n",
       "      <th>5</th>\n",
       "      <td>June</td>\n",
       "      <td>19.56</td>\n",
       "    </tr>\n",
       "    <tr>\n",
       "      <th>6</th>\n",
       "      <td>July</td>\n",
       "      <td>22.78</td>\n",
       "    </tr>\n",
       "    <tr>\n",
       "      <th>7</th>\n",
       "      <td>August</td>\n",
       "      <td>21.72</td>\n",
       "    </tr>\n",
       "    <tr>\n",
       "      <th>8</th>\n",
       "      <td>September</td>\n",
       "      <td>16.72</td>\n",
       "    </tr>\n",
       "    <tr>\n",
       "      <th>9</th>\n",
       "      <td>October</td>\n",
       "      <td>11.61</td>\n",
       "    </tr>\n",
       "    <tr>\n",
       "      <th>10</th>\n",
       "      <td>November</td>\n",
       "      <td>4.89</td>\n",
       "    </tr>\n",
       "    <tr>\n",
       "      <th>11</th>\n",
       "      <td>December</td>\n",
       "      <td>0.99</td>\n",
       "    </tr>\n",
       "  </tbody>\n",
       "</table>\n",
       "</div>"
      ],
      "text/plain": [
       "        Month  Temperature °C\n",
       "0     January            0.00\n",
       "1    February            2.00\n",
       "2       March            5.00\n",
       "3       April            9.56\n",
       "4         May           14.39\n",
       "5        June           19.56\n",
       "6        July           22.78\n",
       "7      August           21.72\n",
       "8   September           16.72\n",
       "9     October           11.61\n",
       "10   November            4.89\n",
       "11   December            0.99"
      ]
     },
     "execution_count": 12,
     "metadata": {},
     "output_type": "execute_result"
    }
   ],
   "source": [
    "# manually create a pandas dataframe\n",
    "\n",
    "df_avg_monthly_temp = pd.DataFrame(columns=[\"Month\", \"Temperature °C\"], \n",
    "                                   data=[[\"January\", 0.00], \n",
    "                                         [\"February\", 2.00], \n",
    "                                         [\"March\", 5.00], \n",
    "                                         [\"April\", 9.56], \n",
    "                                         [\"May\", 14.39], \n",
    "                                         [\"June\", 19.56], \n",
    "                                         [\"July\", 22.78], \n",
    "                                         [\"August\", 21.72], \n",
    "                                         [\"September\", 16.72], \n",
    "                                         [\"October\", 11.61], \n",
    "                                         [\"November\", 4.89], \n",
    "                                         [\"December\", 0.99]])\n",
    "\n",
    "# print new df\n",
    "df_avg_monthly_temp"
   ]
  },
  {
   "cell_type": "markdown",
   "metadata": {},
   "source": [
    "#### Question 9: Download CSV File and Import Into Pandas Dataframes\n",
    "\n",
    "Use .urllib.request to download the following file of average monthly temperature (Celsius) for Boulder, Colorado, to your data directory:\n",
    "\n",
    "avg-temp-months-seasons.csv from https://ndownloader.figshare.com/files/12739457\n",
    "\n",
    "Recall that you need to set your working directory (e.g. /home/jpalomino/earth-analytics-bootcamp/) before running the commands to download data.\n",
    "\n",
    "Use the appropriate function to import avg-temp-months-seasons.csv into a pandas dataframe."
   ]
  },
  {
   "cell_type": "code",
   "execution_count": 17,
   "metadata": {},
   "outputs": [
    {
     "name": "stdout",
     "output_type": "stream",
     "text": [
      "['avg-monthly-precip.txt', 'avg-precip-months-seasons.csv', 'avg-temp-months-seasons.csv', 'monthly-precip-2002-2013.csv', 'months.txt', 'precip-2002-2013-months-seasons.csv', 'precip_2002_2013.csv', 'snow-2007-to-2017-months-seasons.csv', 'snow-2007-to-2017.csv']\n",
      "Data successfully downloaded\n",
      "Pandas Dataframe sucessfully created\n"
     ]
    }
   ],
   "source": [
    "# set working directory\n",
    "os.chdir(\"/Users/markb/earth-analytics-bootcamp/\")\n",
    "\n",
    "#  use `urllib` to download files from Earth Lab figshare repository\n",
    "# download .csv containing monthly average precipitation for Boulder, CO\n",
    "urllib.request.urlretrieve(url = \"https://ndownloader.figshare.com/files/12739457\", \n",
    "                           filename = \"data/avg-temp-months-seasons.csv\")\n",
    "\n",
    "# list files in current working directory to show download was successful\n",
    "print(os.listdir(\"/Users/markb/earth-analytics-bootcamp/data/\"))\n",
    "\n",
    "#print data successfully downloaded\n",
    "print(\"Data successfully downloaded\")\n",
    "\n",
    "# import avg-temps-months-seasons.csv in Pandas Dataframe\n",
    "avg_temps_months_seasons = pd.read_csv(\"/Users/markb/earth-analytics-bootcamp/data/avg-temp-months-seasons.csv\")\n",
    "\n",
    "# print df created\n",
    "print(\"Pandas Dataframe sucessfully created\")"
   ]
  },
  {
   "cell_type": "code",
   "execution_count": 18,
   "metadata": {},
   "outputs": [
    {
     "data": {
      "text/html": [
       "<div>\n",
       "<style scoped>\n",
       "    .dataframe tbody tr th:only-of-type {\n",
       "        vertical-align: middle;\n",
       "    }\n",
       "\n",
       "    .dataframe tbody tr th {\n",
       "        vertical-align: top;\n",
       "    }\n",
       "\n",
       "    .dataframe thead th {\n",
       "        text-align: right;\n",
       "    }\n",
       "</style>\n",
       "<table border=\"1\" class=\"dataframe\">\n",
       "  <thead>\n",
       "    <tr style=\"text-align: right;\">\n",
       "      <th></th>\n",
       "      <th>months</th>\n",
       "      <th>temp</th>\n",
       "      <th>seasons</th>\n",
       "    </tr>\n",
       "  </thead>\n",
       "  <tbody>\n",
       "    <tr>\n",
       "      <th>0</th>\n",
       "      <td>Jan</td>\n",
       "      <td>0.00</td>\n",
       "      <td>Winter</td>\n",
       "    </tr>\n",
       "    <tr>\n",
       "      <th>1</th>\n",
       "      <td>Feb</td>\n",
       "      <td>2.00</td>\n",
       "      <td>Winter</td>\n",
       "    </tr>\n",
       "    <tr>\n",
       "      <th>2</th>\n",
       "      <td>Mar</td>\n",
       "      <td>5.00</td>\n",
       "      <td>Spring</td>\n",
       "    </tr>\n",
       "    <tr>\n",
       "      <th>3</th>\n",
       "      <td>Apr</td>\n",
       "      <td>9.56</td>\n",
       "      <td>Spring</td>\n",
       "    </tr>\n",
       "    <tr>\n",
       "      <th>4</th>\n",
       "      <td>May</td>\n",
       "      <td>14.39</td>\n",
       "      <td>Spring</td>\n",
       "    </tr>\n",
       "    <tr>\n",
       "      <th>5</th>\n",
       "      <td>June</td>\n",
       "      <td>19.56</td>\n",
       "      <td>Summer</td>\n",
       "    </tr>\n",
       "    <tr>\n",
       "      <th>6</th>\n",
       "      <td>July</td>\n",
       "      <td>22.78</td>\n",
       "      <td>Summer</td>\n",
       "    </tr>\n",
       "    <tr>\n",
       "      <th>7</th>\n",
       "      <td>Aug</td>\n",
       "      <td>21.72</td>\n",
       "      <td>Summer</td>\n",
       "    </tr>\n",
       "    <tr>\n",
       "      <th>8</th>\n",
       "      <td>Sept</td>\n",
       "      <td>16.72</td>\n",
       "      <td>Fall</td>\n",
       "    </tr>\n",
       "    <tr>\n",
       "      <th>9</th>\n",
       "      <td>Oct</td>\n",
       "      <td>11.61</td>\n",
       "      <td>Fall</td>\n",
       "    </tr>\n",
       "    <tr>\n",
       "      <th>10</th>\n",
       "      <td>Nov</td>\n",
       "      <td>4.89</td>\n",
       "      <td>Fall</td>\n",
       "    </tr>\n",
       "    <tr>\n",
       "      <th>11</th>\n",
       "      <td>Dec</td>\n",
       "      <td>0.99</td>\n",
       "      <td>Winter</td>\n",
       "    </tr>\n",
       "  </tbody>\n",
       "</table>\n",
       "</div>"
      ],
      "text/plain": [
       "   months   temp seasons\n",
       "0     Jan   0.00  Winter\n",
       "1     Feb   2.00  Winter\n",
       "2     Mar   5.00  Spring\n",
       "3     Apr   9.56  Spring\n",
       "4     May  14.39  Spring\n",
       "5    June  19.56  Summer\n",
       "6    July  22.78  Summer\n",
       "7     Aug  21.72  Summer\n",
       "8    Sept  16.72    Fall\n",
       "9     Oct  11.61    Fall\n",
       "10    Nov   4.89    Fall\n",
       "11    Dec   0.99  Winter"
      ]
     },
     "execution_count": 18,
     "metadata": {},
     "output_type": "execute_result"
    }
   ],
   "source": [
    "# print new df\n",
    "avg_temps_months_seasons"
   ]
  },
  {
   "cell_type": "markdown",
   "metadata": {},
   "source": [
    "##### Question 10: Select and Summarize Data From Pandas Dataframes\n",
    "\n",
    "Select the data for each season (e.g. Winter) and assign the results to a new pandas dataframe for each season.\n",
    "\n",
    "Run the appropriate function to summarize each new pandas dataframe (e.g. Winter)."
   ]
  },
  {
   "cell_type": "code",
   "execution_count": 22,
   "metadata": {},
   "outputs": [
    {
     "data": {
      "text/html": [
       "<div>\n",
       "<style scoped>\n",
       "    .dataframe tbody tr th:only-of-type {\n",
       "        vertical-align: middle;\n",
       "    }\n",
       "\n",
       "    .dataframe tbody tr th {\n",
       "        vertical-align: top;\n",
       "    }\n",
       "\n",
       "    .dataframe thead th {\n",
       "        text-align: right;\n",
       "    }\n",
       "</style>\n",
       "<table border=\"1\" class=\"dataframe\">\n",
       "  <thead>\n",
       "    <tr style=\"text-align: right;\">\n",
       "      <th></th>\n",
       "      <th>temp</th>\n",
       "    </tr>\n",
       "  </thead>\n",
       "  <tbody>\n",
       "    <tr>\n",
       "      <th>count</th>\n",
       "      <td>3.000000</td>\n",
       "    </tr>\n",
       "    <tr>\n",
       "      <th>mean</th>\n",
       "      <td>9.650000</td>\n",
       "    </tr>\n",
       "    <tr>\n",
       "      <th>std</th>\n",
       "      <td>4.695647</td>\n",
       "    </tr>\n",
       "    <tr>\n",
       "      <th>min</th>\n",
       "      <td>5.000000</td>\n",
       "    </tr>\n",
       "    <tr>\n",
       "      <th>25%</th>\n",
       "      <td>7.280000</td>\n",
       "    </tr>\n",
       "    <tr>\n",
       "      <th>50%</th>\n",
       "      <td>9.560000</td>\n",
       "    </tr>\n",
       "    <tr>\n",
       "      <th>75%</th>\n",
       "      <td>11.975000</td>\n",
       "    </tr>\n",
       "    <tr>\n",
       "      <th>max</th>\n",
       "      <td>14.390000</td>\n",
       "    </tr>\n",
       "  </tbody>\n",
       "</table>\n",
       "</div>"
      ],
      "text/plain": [
       "            temp\n",
       "count   3.000000\n",
       "mean    9.650000\n",
       "std     4.695647\n",
       "min     5.000000\n",
       "25%     7.280000\n",
       "50%     9.560000\n",
       "75%    11.975000\n",
       "max    14.390000"
      ]
     },
     "execution_count": 22,
     "metadata": {},
     "output_type": "execute_result"
    }
   ],
   "source": [
    "# select data for spring and assign to new df\n",
    "spring_temps = avg_temps_months_seasons[avg_temps_months_seasons.seasons == \"Spring\"]\n",
    "\n",
    "# perfrom summary statistics for spring\n",
    "spring_temps.describe()"
   ]
  },
  {
   "cell_type": "code",
   "execution_count": 23,
   "metadata": {},
   "outputs": [
    {
     "data": {
      "text/html": [
       "<div>\n",
       "<style scoped>\n",
       "    .dataframe tbody tr th:only-of-type {\n",
       "        vertical-align: middle;\n",
       "    }\n",
       "\n",
       "    .dataframe tbody tr th {\n",
       "        vertical-align: top;\n",
       "    }\n",
       "\n",
       "    .dataframe thead th {\n",
       "        text-align: right;\n",
       "    }\n",
       "</style>\n",
       "<table border=\"1\" class=\"dataframe\">\n",
       "  <thead>\n",
       "    <tr style=\"text-align: right;\">\n",
       "      <th></th>\n",
       "      <th>temp</th>\n",
       "    </tr>\n",
       "  </thead>\n",
       "  <tbody>\n",
       "    <tr>\n",
       "      <th>count</th>\n",
       "      <td>3.000000</td>\n",
       "    </tr>\n",
       "    <tr>\n",
       "      <th>mean</th>\n",
       "      <td>21.353333</td>\n",
       "    </tr>\n",
       "    <tr>\n",
       "      <th>std</th>\n",
       "      <td>1.641016</td>\n",
       "    </tr>\n",
       "    <tr>\n",
       "      <th>min</th>\n",
       "      <td>19.560000</td>\n",
       "    </tr>\n",
       "    <tr>\n",
       "      <th>25%</th>\n",
       "      <td>20.640000</td>\n",
       "    </tr>\n",
       "    <tr>\n",
       "      <th>50%</th>\n",
       "      <td>21.720000</td>\n",
       "    </tr>\n",
       "    <tr>\n",
       "      <th>75%</th>\n",
       "      <td>22.250000</td>\n",
       "    </tr>\n",
       "    <tr>\n",
       "      <th>max</th>\n",
       "      <td>22.780000</td>\n",
       "    </tr>\n",
       "  </tbody>\n",
       "</table>\n",
       "</div>"
      ],
      "text/plain": [
       "            temp\n",
       "count   3.000000\n",
       "mean   21.353333\n",
       "std     1.641016\n",
       "min    19.560000\n",
       "25%    20.640000\n",
       "50%    21.720000\n",
       "75%    22.250000\n",
       "max    22.780000"
      ]
     },
     "execution_count": 23,
     "metadata": {},
     "output_type": "execute_result"
    }
   ],
   "source": [
    "# select data for spring and assign to new df\n",
    "summer_temps = avg_temps_months_seasons[avg_temps_months_seasons.seasons == \"Summer\"]\n",
    "\n",
    "# perfrom summary statistics for spring\n",
    "summer_temps.describe()"
   ]
  },
  {
   "cell_type": "code",
   "execution_count": 25,
   "metadata": {},
   "outputs": [
    {
     "data": {
      "text/html": [
       "<div>\n",
       "<style scoped>\n",
       "    .dataframe tbody tr th:only-of-type {\n",
       "        vertical-align: middle;\n",
       "    }\n",
       "\n",
       "    .dataframe tbody tr th {\n",
       "        vertical-align: top;\n",
       "    }\n",
       "\n",
       "    .dataframe thead th {\n",
       "        text-align: right;\n",
       "    }\n",
       "</style>\n",
       "<table border=\"1\" class=\"dataframe\">\n",
       "  <thead>\n",
       "    <tr style=\"text-align: right;\">\n",
       "      <th></th>\n",
       "      <th>temp</th>\n",
       "    </tr>\n",
       "  </thead>\n",
       "  <tbody>\n",
       "    <tr>\n",
       "      <th>count</th>\n",
       "      <td>3.000000</td>\n",
       "    </tr>\n",
       "    <tr>\n",
       "      <th>mean</th>\n",
       "      <td>11.073333</td>\n",
       "    </tr>\n",
       "    <tr>\n",
       "      <th>std</th>\n",
       "      <td>5.933231</td>\n",
       "    </tr>\n",
       "    <tr>\n",
       "      <th>min</th>\n",
       "      <td>4.890000</td>\n",
       "    </tr>\n",
       "    <tr>\n",
       "      <th>25%</th>\n",
       "      <td>8.250000</td>\n",
       "    </tr>\n",
       "    <tr>\n",
       "      <th>50%</th>\n",
       "      <td>11.610000</td>\n",
       "    </tr>\n",
       "    <tr>\n",
       "      <th>75%</th>\n",
       "      <td>14.165000</td>\n",
       "    </tr>\n",
       "    <tr>\n",
       "      <th>max</th>\n",
       "      <td>16.720000</td>\n",
       "    </tr>\n",
       "  </tbody>\n",
       "</table>\n",
       "</div>"
      ],
      "text/plain": [
       "            temp\n",
       "count   3.000000\n",
       "mean   11.073333\n",
       "std     5.933231\n",
       "min     4.890000\n",
       "25%     8.250000\n",
       "50%    11.610000\n",
       "75%    14.165000\n",
       "max    16.720000"
      ]
     },
     "execution_count": 25,
     "metadata": {},
     "output_type": "execute_result"
    }
   ],
   "source": [
    "# select data for fall and assign to new df\n",
    "fall_temps = avg_temps_months_seasons[avg_temps_months_seasons.seasons == \"Fall\"]\n",
    "\n",
    "# perfrom summary statistics for fall\n",
    "fall_temps.describe()"
   ]
  },
  {
   "cell_type": "code",
   "execution_count": 43,
   "metadata": {},
   "outputs": [
    {
     "data": {
      "text/html": [
       "<div>\n",
       "<style scoped>\n",
       "    .dataframe tbody tr th:only-of-type {\n",
       "        vertical-align: middle;\n",
       "    }\n",
       "\n",
       "    .dataframe tbody tr th {\n",
       "        vertical-align: top;\n",
       "    }\n",
       "\n",
       "    .dataframe thead th {\n",
       "        text-align: right;\n",
       "    }\n",
       "</style>\n",
       "<table border=\"1\" class=\"dataframe\">\n",
       "  <thead>\n",
       "    <tr style=\"text-align: right;\">\n",
       "      <th></th>\n",
       "      <th>temp</th>\n",
       "    </tr>\n",
       "  </thead>\n",
       "  <tbody>\n",
       "    <tr>\n",
       "      <th>count</th>\n",
       "      <td>3.000000</td>\n",
       "    </tr>\n",
       "    <tr>\n",
       "      <th>mean</th>\n",
       "      <td>0.996667</td>\n",
       "    </tr>\n",
       "    <tr>\n",
       "      <th>std</th>\n",
       "      <td>1.000017</td>\n",
       "    </tr>\n",
       "    <tr>\n",
       "      <th>min</th>\n",
       "      <td>0.000000</td>\n",
       "    </tr>\n",
       "    <tr>\n",
       "      <th>25%</th>\n",
       "      <td>0.495000</td>\n",
       "    </tr>\n",
       "    <tr>\n",
       "      <th>50%</th>\n",
       "      <td>0.990000</td>\n",
       "    </tr>\n",
       "    <tr>\n",
       "      <th>75%</th>\n",
       "      <td>1.495000</td>\n",
       "    </tr>\n",
       "    <tr>\n",
       "      <th>max</th>\n",
       "      <td>2.000000</td>\n",
       "    </tr>\n",
       "  </tbody>\n",
       "</table>\n",
       "</div>"
      ],
      "text/plain": [
       "           temp\n",
       "count  3.000000\n",
       "mean   0.996667\n",
       "std    1.000017\n",
       "min    0.000000\n",
       "25%    0.495000\n",
       "50%    0.990000\n",
       "75%    1.495000\n",
       "max    2.000000"
      ]
     },
     "execution_count": 43,
     "metadata": {},
     "output_type": "execute_result"
    }
   ],
   "source": [
    "# select data for winter and assign to new df\n",
    "winter_temps = avg_temps_months_seasons[avg_temps_months_seasons.seasons == \"Winter\"]\n",
    "\n",
    "# perfrom summary statistics for fall\n",
    "winter_temps.describe()"
   ]
  },
  {
   "cell_type": "markdown",
   "metadata": {},
   "source": [
    "#### Question 11: Plot Data From Pandas Dataframes\n",
    "\n",
    "Manually create a new pandas dataframe containing the calculated mean value for each season and the name of the season.\n",
    "\n",
    "Plot this new pandas dataframe using the plot type and colors of your choosing"
   ]
  },
  {
   "cell_type": "code",
   "execution_count": 57,
   "metadata": {},
   "outputs": [
    {
     "data": {
      "text/plain": [
       "temp    9.65\n",
       "dtype: float64"
      ]
     },
     "execution_count": 57,
     "metadata": {},
     "output_type": "execute_result"
    }
   ],
   "source": [
    "# create variable for mean temp in spring\n",
    "spring_mean_temp = spring_temps.mean()\n",
    "# mean temp in summer\n",
    "summer_mean_temp = summer_temps.mean()\n",
    "# mean temp in fall\n",
    "fall_mean_temp = fall_temps.mean()\n",
    "# mean temp in winter\n",
    "winter_mean_temp = winter_temps.mean()\n",
    "\n",
    "#print mean temp of spring\n",
    "spring_mean_temp"
   ]
  },
  {
   "cell_type": "code",
   "execution_count": 66,
   "metadata": {},
   "outputs": [],
   "source": [
    "# manually create new pandas df containing mean temp value for each season and name of season\n",
    "mean_temps_seasons = pd.DataFrame( columns=[\"Season\", \"Mean_Temp\"], \n",
    "                                  data=[[\"Spring\", 9.65], \n",
    "                                        [\"Summer\", 21.35], \n",
    "                                        [\"Fall\", 11.07], \n",
    "                                        [\"Winter\", 0.99]])"
   ]
  },
  {
   "cell_type": "code",
   "execution_count": 67,
   "metadata": {},
   "outputs": [
    {
     "data": {
      "text/html": [
       "<div>\n",
       "<style scoped>\n",
       "    .dataframe tbody tr th:only-of-type {\n",
       "        vertical-align: middle;\n",
       "    }\n",
       "\n",
       "    .dataframe tbody tr th {\n",
       "        vertical-align: top;\n",
       "    }\n",
       "\n",
       "    .dataframe thead th {\n",
       "        text-align: right;\n",
       "    }\n",
       "</style>\n",
       "<table border=\"1\" class=\"dataframe\">\n",
       "  <thead>\n",
       "    <tr style=\"text-align: right;\">\n",
       "      <th></th>\n",
       "      <th>Season</th>\n",
       "      <th>Mean_Temp</th>\n",
       "    </tr>\n",
       "  </thead>\n",
       "  <tbody>\n",
       "    <tr>\n",
       "      <th>0</th>\n",
       "      <td>Spring</td>\n",
       "      <td>9.65</td>\n",
       "    </tr>\n",
       "    <tr>\n",
       "      <th>1</th>\n",
       "      <td>Summer</td>\n",
       "      <td>21.35</td>\n",
       "    </tr>\n",
       "    <tr>\n",
       "      <th>2</th>\n",
       "      <td>Fall</td>\n",
       "      <td>11.07</td>\n",
       "    </tr>\n",
       "    <tr>\n",
       "      <th>3</th>\n",
       "      <td>Winter</td>\n",
       "      <td>0.99</td>\n",
       "    </tr>\n",
       "  </tbody>\n",
       "</table>\n",
       "</div>"
      ],
      "text/plain": [
       "   Season  Mean_Temp\n",
       "0  Spring       9.65\n",
       "1  Summer      21.35\n",
       "2    Fall      11.07\n",
       "3  Winter       0.99"
      ]
     },
     "execution_count": 67,
     "metadata": {},
     "output_type": "execute_result"
    }
   ],
   "source": [
    "mean_temps_seasons"
   ]
  },
  {
   "cell_type": "markdown",
   "metadata": {},
   "source": [
    "#### Question 11: Plot Data From Pandas Dataframes\n",
    "\n",
    "Manually create a new pandas dataframe containing the calculated mean value for each season and the name of the season.\n",
    "\n",
    "Plot this new pandas dataframe using the plot type and colors of your choosing."
   ]
  },
  {
   "cell_type": "code",
   "execution_count": 76,
   "metadata": {},
   "outputs": [
    {
     "data": {
      "image/png": "[encoded data removed]",
      "text/plain": [
       "<Figure size 576x576 with 1 Axes>"
      ]
     },
     "metadata": {
      "needs_background": "light"
     },
     "output_type": "display_data"
    }
   ],
   "source": [
    "# set plot size for all plots that follow\n",
    "plt.rcParams[\"figure.figsize\"] = (8, 8)\n",
    "\n",
    "# set font for all text in plot to size 16\n",
    "plt.rcParams[\"font.size\"] = (16)\n",
    "\n",
    "# create the plot space upon which to plot the data\n",
    "fig, ax = plt.subplots()\n",
    "\n",
    "# add the x-axis and the y-axis to the plot\n",
    "ax.bar(mean_temps_seasons.Season, mean_temps_seasons.Mean_Temp, color=\"orange\")\n",
    "\n",
    "# set plot title\n",
    "ax.set(title=\"Mean Seasonal Temperature in Boulder, CO\")\n",
    "\n",
    "# add labels to the axes\n",
    "ax.set(xlabel=\"Season\", ylabel=\"Temperature (°C)\");\n"
   ]
  }
 ],
 "metadata": {
  "kernelspec": {
   "display_name": "Python 3",
   "language": "python",
   "name": "python3"
  },
  "language_info": {
   "codemirror_mode": {
    "name": "ipython",
    "version": 3
   },
   "file_extension": ".py",
   "mimetype": "text/x-python",
   "name": "python",
   "nbconvert_exporter": "python",
   "pygments_lexer": "ipython3",
   "version": "3.7.0"
  }
 },
 "nbformat": 4,
 "nbformat_minor": 2
}
