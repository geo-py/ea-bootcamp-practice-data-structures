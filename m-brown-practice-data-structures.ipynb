{
 "cells": [
  {
   "cell_type": "markdown",
   "metadata": {},
   "source": [
    "### Earth Analytics Bootcamp - Practice Activity on Data Structures\n",
    "\n",
    "**Author:** Mark Brown\n",
    "\n",
    "**Note:** If anyone is reading this please note that I am not a student on this course. I'm a geospatial professional from the UK working through this course for professional development."
   ]
  },
  {
   "cell_type": "markdown",
   "metadata": {},
   "source": [
    "**Question 2: Import Python Packages**\n",
    "\n",
    "You will be creating lists, numpy arrays, and pandas dataframes. You will also be creating plots and downloading data from Figshare.com\n",
    "\n",
    "Import the necessary Python packages to accomplish these tasks. Review the lessons as needed to figure out which packages you need to import"
   ]
  },
  {
   "cell_type": "code",
   "execution_count": 1,
   "metadata": {},
   "outputs": [
    {
     "name": "stdout",
     "output_type": "stream",
     "text": [
      "Packages sucessfully imported\n"
     ]
    }
   ],
   "source": [
    "# import the Python packages necessary to carry out this task\n",
    "\n",
    "import os\n",
    "import numpy as np\n",
    "import pandas as pd\n",
    "import urllib.request\n",
    "import matplotlib.pyplot as plt\n",
    "\n",
    "print(\"Packages sucessfully imported\")"
   ]
  },
  {
   "cell_type": "markdown",
   "metadata": {},
   "source": [
    "**Question 3: Create List of Data Values**\n",
    "\n",
    "Create and print a Python list of the average monthly temperature (Celsius) in Boulder, CO."
   ]
  },
  {
   "cell_type": "code",
   "execution_count": 7,
   "metadata": {},
   "outputs": [
    {
     "name": "stdout",
     "output_type": "stream",
     "text": [
      "[0.0, 2.0, 5.0, 9.56, 14.39, 21.72, 16.72, 11.61, 4.89, 0.99]\n"
     ]
    }
   ],
   "source": [
    "# create a python list of the average monthly temperature (Celsius) in Boulder, CO.\n",
    "\n",
    "avg_monthly_temp = [0.0, 2.00, 5.0, 9.56, 14.39, 21.72, 16.72, 11.61, 4.89, 0.99]\n",
    "\n",
    "# print the list 'avg_monthly-temp'. Note: the values for June and July are missing from this dataset\n",
    "\n",
    "print(avg_monthly_temp)"
   ]
  },
  {
   "cell_type": "markdown",
   "metadata": {},
   "source": [
    "**Question 4: Insert Values Into a Python List**\n",
    "\n",
    "* June : 19.56\n",
    "* July : 22.78\n",
    "\n",
    "Insert missing values for June and July into your Python list with the following syntax:\n",
    "\n",
    "listname.insert(index, value)\n",
    "\n",
    "This means that you need to determine the index location at which you want to insert the value. For example, if you want to add a new value at the second place in a list, then you would use an index of [1].\n",
    "\n",
    "It can also be helpful to identify the index of the existing value in front of which you want to add a new value.\n",
    "\n",
    "Remember that Python indexing begins at [0] and that when you add a new item to the list, the index of the original items will update as well.\n",
    "\n",
    "Print your Python list after each addition."
   ]
  },
  {
   "cell_type": "code",
   "execution_count": 8,
   "metadata": {},
   "outputs": [
    {
     "name": "stdout",
     "output_type": "stream",
     "text": [
      "[0.0, 2.0, 5.0, 9.56, 14.39, 19.56, 21.72, 16.72, 11.61, 4.89, 0.99]\n"
     ]
    }
   ],
   "source": [
    "# insert the missing value for June into 'avg_monthly_temp'\n",
    "\n",
    "avg_monthly_temp.insert(5, 19.56)\n",
    "\n",
    "# print 'avg_monthly_temp' to show new value has been inserted\n",
    "\n",
    "print(avg_monthly_temp)"
   ]
  },
  {
   "cell_type": "code",
   "execution_count": 9,
   "metadata": {},
   "outputs": [
    {
     "name": "stdout",
     "output_type": "stream",
     "text": [
      "[0.0, 2.0, 5.0, 9.56, 14.39, 19.56, 22.78, 21.72, 16.72, 11.61, 4.89, 0.99]\n"
     ]
    }
   ],
   "source": [
    "# insert the missing value for July into 'avg_monthly_temp'\n",
    "\n",
    "avg_monthly_temp.insert(6, 22.78)\n",
    "\n",
    "# print 'avg_monthly_temp' to show new value has been inserted\n",
    "\n",
    "print(avg_monthly_temp)"
   ]
  },
  {
   "cell_type": "markdown",
   "metadata": {},
   "source": [
    "**Question 5: Manually Create Numpy Arrays**\n",
    "\n",
    "Using the average monthly temperature values, manually create and print a one-dimensional numpy array using the following syntax:\n",
    "\n",
    "arrayname = np.array([value, value, value, etc])"
   ]
  },
  {
   "cell_type": "code",
   "execution_count": 10,
   "metadata": {},
   "outputs": [
    {
     "name": "stdout",
     "output_type": "stream",
     "text": [
      "[ 0.    2.    5.    9.56 14.39 19.56 22.78 21.72 16.72 11.61  4.89  0.99]\n"
     ]
    }
   ],
   "source": [
    "# create and print array using average monthly temperature values\n",
    "\n",
    "avg_monthly_temp_array = np.array([0.0, 2.0, 5.0, 9.56, 14.39, 19.56, 22.78, 21.72, 16.72, 11.61, 4.89, 0.99])\n",
    "\n",
    "# print the new numpy array\n",
    "\n",
    "print(avg_monthly_temp_array)"
   ]
  },
  {
   "cell_type": "code",
   "execution_count": 11,
   "metadata": {},
   "outputs": [
    {
     "name": "stdout",
     "output_type": "stream",
     "text": [
      "[ 0.    2.    5.    9.56 14.39 19.56 22.78 21.72 16.72 11.61  4.89  0.99]\n"
     ]
    }
   ],
   "source": [
    "# create and print array using the 'avg_monthly_temp' list created previously in question 4\n",
    "\n",
    "avg_monthly_temp_array_from_list = np.array(avg_monthly_temp)\n",
    "\n",
    "# print the new numpy array\n",
    "\n",
    "print(avg_monthly_temp_array_from_list)"
   ]
  },
  {
   "cell_type": "markdown",
   "metadata": {},
   "source": [
    "**Quesion 6: Download Text File and Import Into Numpy Arrays**\n",
    "\n",
    "Use .urllib.request to download the following file of average monthly temperature (Celsius) for Boulder, Colorado, to your data directory:\n",
    "\n",
    "avg-monthly-temp.txt from https://ndownloader.figshare.com/files/12732467\n",
    "\n",
    "Recall that you need to set your working directory (e.g. /home/jpalomino/earth-analytics-bootcamp/) before running the commands to download data.\n",
    "\n",
    "Use the appropriate function to import avg-monthly-temp.txt into a numpy array."
   ]
  },
  {
   "cell_type": "code",
   "execution_count": 13,
   "metadata": {},
   "outputs": [
    {
     "data": {
      "text/plain": [
       "'C:\\\\Users\\\\markb\\\\earth-analytics-bootcamp\\\\ea-bootcamp-practice-data-structures'"
      ]
     },
     "execution_count": 13,
     "metadata": {},
     "output_type": "execute_result"
    }
   ],
   "source": [
    "# print current working directory\n",
    "\n",
    "os.getcwd()"
   ]
  },
  {
   "cell_type": "code",
   "execution_count": 14,
   "metadata": {},
   "outputs": [
    {
     "data": {
      "text/plain": [
       "'C:\\\\Users\\\\markb\\\\earth-analytics-bootcamp'"
      ]
     },
     "execution_count": 14,
     "metadata": {},
     "output_type": "execute_result"
    }
   ],
   "source": [
    "# change current working directory to earth-analytics-bootcamp directory\n",
    "\n",
    "os.chdir(\"/Users/markb/earth-analytics-bootcamp/\")\n",
    "         \n",
    "# print the current working directory\n",
    "\n",
    "os.getcwd()"
   ]
  },
  {
   "cell_type": "code",
   "execution_count": null,
   "metadata": {},
   "outputs": [],
   "source": []
  }
 ],
 "metadata": {
  "kernelspec": {
   "display_name": "Python 3",
   "language": "python",
   "name": "python3"
  },
  "language_info": {
   "codemirror_mode": {
    "name": "ipython",
    "version": 3
   },
   "file_extension": ".py",
   "mimetype": "text/x-python",
   "name": "python",
   "nbconvert_exporter": "python",
   "pygments_lexer": "ipython3",
   "version": "3.7.0"
  }
 },
 "nbformat": 4,
 "nbformat_minor": 2
}
